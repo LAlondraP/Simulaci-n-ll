{
  "nbformat": 4,
  "nbformat_minor": 0,
  "metadata": {
    "colab": {
      "provenance": [],
      "authorship_tag": "ABX9TyNFSMAGLHuGxLosqL8sJFvt",
      "include_colab_link": true
    },
    "kernelspec": {
      "name": "python3",
      "display_name": "Python 3"
    },
    "language_info": {
      "name": "python"
    }
  },
  "cells": [
    {
      "cell_type": "markdown",
      "metadata": {
        "id": "view-in-github",
        "colab_type": "text"
      },
      "source": [
        "<a href=\"https://colab.research.google.com/github/LAlondraP/Simulaci-n-ll/blob/main/BONDAD_DE_AJUSTE_CHI_2.ipynb\" target=\"_parent\"><img src=\"https://colab.research.google.com/assets/colab-badge.svg\" alt=\"Open In Colab\"/></a>"
      ]
    },
    {
      "cell_type": "markdown",
      "source": [
        "PRUEBA DE BONDAD DE AJUSTE $X^2$\n",
        "\n",
        "En este progarama se proporcionaran los números ya en categorias (agrupados)\n",
        "\n",
        "-se dará el número de clases nc\n",
        "\n",
        "-se dará el $\\alpha$\n",
        "\n",
        "\n",
        "PONCE GALICIA LISETTE ALONDRA\n",
        "\n"
      ],
      "metadata": {
        "id": "MIYB__1vArK3"
      }
    },
    {
      "cell_type": "code",
      "source": [
        "import scipy\n",
        "c1=[0.07,0.05,0.05,0.11,0.18,0.04,0.12,0.02,0.17] #clase 1\n",
        "c2=[0.38,0.33,0.36,0.25,0.35,0.21,0.34] #clase 2\n",
        "c3=[0.50,0.46,0.50,0.48,0.42,0.49,0.52,0.52,0.43] #clase 3\n",
        "c4=[0.69,0.77,0.76,0.78,0.73,0.79,0.62] #clase 4\n",
        "c5=[0.91,0.95,0.91,0.88,0.98,0.99,0.82,0.90] #clase 5\n",
        "\n",
        "nt=40 #total de datos\n",
        "nc=5\n",
        "alpha=0.05\n",
        "lib=nc-1\n",
        "E=[nt/nc,nt/nc,nt/nc,nt/nc,nt/nc]   #esperado\n",
        "print(E)\n",
        "\n",
        "#tamaños de las muestras (observadas)\n",
        "tn=[len(c1),len(c2),len(c3),len(c4),len(c5)]\n",
        "print(tn)\n",
        "\n",
        "#tn-E (observadas - esperado)\n",
        "dif = list(map(lambda x,y: x-y ,tn,E))\n",
        "print(dif)\n",
        "\n",
        "#dif**2\n",
        "difdif = [n**2 for n in dif]\n",
        "print(difdif)\n",
        "\n",
        "#sumar y dividir x**2\n",
        "xx=(sum(difdif))/(nt/nc)\n",
        "print(xx)  #chi obtenida por las observaciones\n",
        "\n",
        "\n",
        "valr=scipy.stats.chi2.ppf (1-alpha,lib)\n",
        "print(valr)\n",
        "\n",
        "#se rechaza H0?\n",
        "if valr <= xx:\n",
        "  print(\"rechazamos la H0\")\n",
        "else:\n",
        "  print(\"no podemos rechazar la H0\")"
      ],
      "metadata": {
        "colab": {
          "base_uri": "https://localhost:8080/"
        },
        "id": "e1rE3EMhBcNL",
        "outputId": "1d490df9-4b12-40b0-d8cd-3089ba5de9ce"
      },
      "execution_count": null,
      "outputs": [
        {
          "output_type": "stream",
          "name": "stdout",
          "text": [
            "[8.0, 8.0, 8.0, 8.0, 8.0]\n",
            "[9, 7, 9, 7, 8]\n",
            "[1.0, -1.0, 1.0, -1.0, 0.0]\n",
            "[1.0, 1.0, 1.0, 1.0, 0.0]\n",
            "0.5\n",
            "9.487729036781154\n",
            "no podemos rechazar la H0\n"
          ]
        }
      ]
    }
  ]
}